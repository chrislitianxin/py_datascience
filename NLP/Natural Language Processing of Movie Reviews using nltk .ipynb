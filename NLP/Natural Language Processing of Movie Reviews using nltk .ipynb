{
 "cells": [
  {
   "cell_type": "markdown",
   "metadata": {},
   "source": [
    "# Natural Language Processing with `nltk`\n",
    "\n",
    "`nltk` is the most popular Python package for Natural Language processing, it provides algorithms for importing, cleaning, pre-processing text data in human language and then apply computational linguistics algorithms like sentiment analysis."
   ]
  },
  {
   "cell_type": "markdown",
   "metadata": {},
   "source": [
    "## Inspect the Movie Reviews Dataset"
   ]
  },
  {
   "cell_type": "markdown",
   "metadata": {},
   "source": [
    "It also includes many easy-to-use datasets in the `nltk.corpus` package, we can download for example the `movie_reviews` package using the `nltk.download` function:"
   ]
  },
  {
   "cell_type": "code",
   "execution_count": 3,
   "metadata": {},
   "outputs": [],
   "source": [
    "import nltk"
   ]
  },
  {
   "cell_type": "code",
   "execution_count": 4,
   "metadata": {},
   "outputs": [
    {
     "name": "stdout",
     "output_type": "stream",
     "text": [
      "[nltk_data] Downloading package movie_reviews to\n",
      "[nltk_data]     /Users/tx/nltk_data...\n",
      "[nltk_data]   Unzipping corpora/movie_reviews.zip.\n"
     ]
    },
    {
     "data": {
      "text/plain": [
       "True"
      ]
     },
     "execution_count": 4,
     "metadata": {},
     "output_type": "execute_result"
    }
   ],
   "source": [
    "nltk.download(\"movie_reviews\")"
   ]
  },
  {
   "cell_type": "markdown",
   "metadata": {},
   "source": [
    "You can also list and download other datasets interactively just typing:\n",
    "\n",
    "    nltk.download()\n",
    "    \n",
    "in the Jupyter Notebook."
   ]
  },
  {
   "cell_type": "markdown",
   "metadata": {},
   "source": [
    "Once the data have been downloaded, we can import them from `nltk.corpus`"
   ]
  },
  {
   "cell_type": "code",
   "execution_count": 5,
   "metadata": {},
   "outputs": [],
   "source": [
    "from nltk.corpus import movie_reviews"
   ]
  },
  {
   "cell_type": "markdown",
   "metadata": {},
   "source": [
    "The `fileids` method provided by all the datasets in `nltk.corpus` gives access to a list of all the files available.\n",
    "\n",
    "In particular in the movie_reviews dataset we have 2000 text files, each of them is a review of a movie, and they are already split in a `neg` folder for the negative reviews and a `pos` folder for the positive reviews:"
   ]
  },
  {
   "cell_type": "code",
   "execution_count": 16,
   "metadata": {},
   "outputs": [
    {
     "data": {
      "text/plain": [
       "2000"
      ]
     },
     "execution_count": 16,
     "metadata": {},
     "output_type": "execute_result"
    }
   ],
   "source": [
    "len(movie_reviews.fileids())"
   ]
  },
  {
   "cell_type": "code",
   "execution_count": 17,
   "metadata": {},
   "outputs": [
    {
     "data": {
      "text/plain": [
       "['neg/cv000_29416.txt',\n",
       " 'neg/cv001_19502.txt',\n",
       " 'neg/cv002_17424.txt',\n",
       " 'neg/cv003_12683.txt',\n",
       " 'neg/cv004_12641.txt']"
      ]
     },
     "execution_count": 17,
     "metadata": {},
     "output_type": "execute_result"
    }
   ],
   "source": [
    "movie_reviews.fileids()[:5]   # first 5 fileids"
   ]
  },
  {
   "cell_type": "code",
   "execution_count": 20,
   "metadata": {},
   "outputs": [
    {
     "data": {
      "text/plain": [
       "['pos/cv993_29737.txt',\n",
       " 'pos/cv994_12270.txt',\n",
       " 'pos/cv995_21821.txt',\n",
       " 'pos/cv996_11592.txt',\n",
       " 'pos/cv997_5046.txt',\n",
       " 'pos/cv998_14111.txt',\n",
       " 'pos/cv999_13106.txt']"
      ]
     },
     "execution_count": 20,
     "metadata": {},
     "output_type": "execute_result"
    }
   ],
   "source": [
    "movie_reviews.fileids()[-7:]   # last 7 fileids"
   ]
  },
  {
   "cell_type": "markdown",
   "metadata": {},
   "source": [
    "`fileids` can also filter the available files based on their category, which is the name of the subfolders they are located in. Therefore we can have lists of positive and negative reviews separately."
   ]
  },
  {
   "cell_type": "code",
   "execution_count": 21,
   "metadata": {},
   "outputs": [],
   "source": [
    "negative_fileids = movie_reviews.fileids('neg')\n",
    "positive_fileids = movie_reviews.fileids('pos')"
   ]
  },
  {
   "cell_type": "code",
   "execution_count": 22,
   "metadata": {},
   "outputs": [
    {
     "data": {
      "text/plain": [
       "(1000, 1000)"
      ]
     },
     "execution_count": 22,
     "metadata": {},
     "output_type": "execute_result"
    }
   ],
   "source": [
    "len(negative_fileids), len(positive_fileids)"
   ]
  },
  {
   "cell_type": "markdown",
   "metadata": {},
   "source": [
    "We can inspect one of the reviews using the `raw` method of `movie_reviews`, each file is split into sentences, the curators of this dataset also removed from each review from any direct mention of the rating of the movie."
   ]
  },
  {
   "cell_type": "code",
   "execution_count": 23,
   "metadata": {},
   "outputs": [
    {
     "name": "stdout",
     "output_type": "stream",
     "text": [
      "films adapted from comic books have had plenty of success , whether they're about superheroes ( batman , superman , spawn ) , or geared toward kids ( casper ) or the arthouse crowd ( ghost world ) , but there's never really been a comic book like from hell before . \n",
      "for starters , it was created by alan moore ( and eddie campbell ) , who brought the medium to a whole new level in the mid '80s with a 12-part series called the watchmen . \n",
      "to say moore and campbell thoroughly researched the subject of jack the ripper would be like saying michael jackson is starting to look a little odd . \n",
      "the book ( or \" graphic novel , \" if you will ) is over 500 pages long and includes nearly 30 more that consist of nothing but footnotes . \n",
      "in other words , don't dismiss this film because of its source . \n",
      "if you can get past the whole comic book thing , you might find another stumbling block in from hell's directors , albert and allen hughes . \n",
      "getting the hughes brothers to direct this seems almost as ludicrous as casting carrot top in , well , anything , but riddle me this : who better to direct a film that's set in the ghetto and features really violent street crime than the mad geniuses behind menace ii society ? \n",
      "the ghetto in question is , of course , whitechapel in 1888 london's east end . \n",
      "it's a filthy , sooty place where the whores ( called \" unfortunates \" ) are starting to get a little nervous about this mysterious psychopath who has been carving through their profession with surgical precision . \n",
      "when the first stiff turns up , copper peter godley ( robbie coltrane , the world is not enough ) calls in inspector frederick abberline ( johnny depp , blow ) to crack the case . \n",
      "abberline , a widower , has prophetic dreams he unsuccessfully tries to quell with copious amounts of absinthe and opium . \n",
      "upon arriving in whitechapel , he befriends an unfortunate named mary kelly ( heather graham , say it isn't so ) and proceeds to investigate the horribly gruesome crimes that even the police surgeon can't stomach . \n",
      "i don't think anyone needs to be briefed on jack the ripper , so i won't go into the particulars here , other than to say moore and campbell have a unique and interesting theory about both the identity of the killer and the reasons he chooses to slay . \n",
      "in the comic , they don't bother cloaking the identity of the ripper , but screenwriters terry hayes ( vertical limit ) and rafael yglesias ( les mis ? rables ) do a good job of keeping him hidden from viewers until the very end . \n",
      "it's funny to watch the locals blindly point the finger of blame at jews and indians because , after all , an englishman could never be capable of committing such ghastly acts . \n",
      "and from hell's ending had me whistling the stonecutters song from the simpsons for days ( \" who holds back the electric car/who made steve guttenberg a star ? \" ) . \n",
      "don't worry - it'll all make sense when you see it . \n",
      "now onto from hell's appearance : it's certainly dark and bleak enough , and it's surprising to see how much more it looks like a tim burton film than planet of the apes did ( at times , it seems like sleepy hollow 2 ) . \n",
      "the print i saw wasn't completely finished ( both color and music had not been finalized , so no comments about marilyn manson ) , but cinematographer peter deming ( don't say a word ) ably captures the dreariness of victorian-era london and helped make the flashy killing scenes remind me of the crazy flashbacks in twin peaks , even though the violence in the film pales in comparison to that in the black-and-white comic . \n",
      "oscar winner martin childs' ( shakespeare in love ) production design turns the original prague surroundings into one creepy place . \n",
      "even the acting in from hell is solid , with the dreamy depp turning in a typically strong performance and deftly handling a british accent . \n",
      "ians holm ( joe gould's secret ) and richardson ( 102 dalmatians ) log in great supporting roles , but the big surprise here is graham . \n",
      "i cringed the first time she opened her mouth , imagining her attempt at an irish accent , but it actually wasn't half bad . \n",
      "the film , however , is all good . \n",
      "2 : 00 - r for strong violence/gore , sexuality , language and drug content \n",
      "\n"
     ]
    }
   ],
   "source": [
    "print(movie_reviews.raw(fileids=positive_fileids[0]))"
   ]
  },
  {
   "cell_type": "markdown",
   "metadata": {},
   "source": [
    "## Tokenize Text in Words"
   ]
  },
  {
   "cell_type": "code",
   "execution_count": 24,
   "metadata": {},
   "outputs": [],
   "source": [
    "romeo_text = \"\"\"Why then, O brawling love! O loving hate!\n",
    "O any thing, of nothing first create!\n",
    "O heavy lightness, serious vanity,\n",
    "Misshapen chaos of well-seeming forms,\n",
    "Feather of lead, bright smoke, cold fire, sick health,\n",
    "Still-waking sleep, that is not what it is!\n",
    "This love feel I, that feel no love in this.\"\"\""
   ]
  },
  {
   "cell_type": "markdown",
   "metadata": {},
   "source": [
    "The first step in Natural Language processing is generally to split the text into words, this process might appear simple but it is very tedious to handle all corner cases, see for example all the issues with punctuation we have to solve if we just start with a split on whitespace:"
   ]
  },
  {
   "cell_type": "code",
   "execution_count": 25,
   "metadata": {},
   "outputs": [
    {
     "data": {
      "text/plain": [
       "['Why',\n",
       " 'then,',\n",
       " 'O',\n",
       " 'brawling',\n",
       " 'love!',\n",
       " 'O',\n",
       " 'loving',\n",
       " 'hate!',\n",
       " 'O',\n",
       " 'any',\n",
       " 'thing,',\n",
       " 'of',\n",
       " 'nothing',\n",
       " 'first',\n",
       " 'create!',\n",
       " 'O',\n",
       " 'heavy',\n",
       " 'lightness,',\n",
       " 'serious',\n",
       " 'vanity,',\n",
       " 'Misshapen',\n",
       " 'chaos',\n",
       " 'of',\n",
       " 'well-seeming',\n",
       " 'forms,',\n",
       " 'Feather',\n",
       " 'of',\n",
       " 'lead,',\n",
       " 'bright',\n",
       " 'smoke,',\n",
       " 'cold',\n",
       " 'fire,',\n",
       " 'sick',\n",
       " 'health,',\n",
       " 'Still-waking',\n",
       " 'sleep,',\n",
       " 'that',\n",
       " 'is',\n",
       " 'not',\n",
       " 'what',\n",
       " 'it',\n",
       " 'is!',\n",
       " 'This',\n",
       " 'love',\n",
       " 'feel',\n",
       " 'I,',\n",
       " 'that',\n",
       " 'feel',\n",
       " 'no',\n",
       " 'love',\n",
       " 'in',\n",
       " 'this.']"
      ]
     },
     "execution_count": 25,
     "metadata": {},
     "output_type": "execute_result"
    }
   ],
   "source": [
    "romeo_text.split()"
   ]
  },
  {
   "cell_type": "markdown",
   "metadata": {},
   "source": [
    "`nltk` has a sophisticated word tokenizer trained on English named `punkt`, we first have to download its parameters: "
   ]
  },
  {
   "cell_type": "code",
   "execution_count": 26,
   "metadata": {},
   "outputs": [
    {
     "name": "stdout",
     "output_type": "stream",
     "text": [
      "[nltk_data] Downloading package punkt to /Users/tx/nltk_data...\n",
      "[nltk_data]   Unzipping tokenizers/punkt.zip.\n"
     ]
    },
    {
     "data": {
      "text/plain": [
       "True"
      ]
     },
     "execution_count": 26,
     "metadata": {},
     "output_type": "execute_result"
    }
   ],
   "source": [
    "nltk.download(\"punkt\")"
   ]
  },
  {
   "cell_type": "markdown",
   "metadata": {},
   "source": [
    "Then we can use the `word_tokenize` function to properly tokenize this text, compare to the whitespace splitting we used above:"
   ]
  },
  {
   "cell_type": "code",
   "execution_count": 27,
   "metadata": {},
   "outputs": [],
   "source": [
    "romeo_words = nltk.word_tokenize(romeo_text)"
   ]
  },
  {
   "cell_type": "code",
   "execution_count": 28,
   "metadata": {},
   "outputs": [
    {
     "data": {
      "text/plain": [
       "['Why',\n",
       " 'then',\n",
       " ',',\n",
       " 'O',\n",
       " 'brawling',\n",
       " 'love',\n",
       " '!',\n",
       " 'O',\n",
       " 'loving',\n",
       " 'hate',\n",
       " '!',\n",
       " 'O',\n",
       " 'any',\n",
       " 'thing',\n",
       " ',',\n",
       " 'of',\n",
       " 'nothing',\n",
       " 'first',\n",
       " 'create',\n",
       " '!',\n",
       " 'O',\n",
       " 'heavy',\n",
       " 'lightness',\n",
       " ',',\n",
       " 'serious',\n",
       " 'vanity',\n",
       " ',',\n",
       " 'Misshapen',\n",
       " 'chaos',\n",
       " 'of',\n",
       " 'well-seeming',\n",
       " 'forms',\n",
       " ',',\n",
       " 'Feather',\n",
       " 'of',\n",
       " 'lead',\n",
       " ',',\n",
       " 'bright',\n",
       " 'smoke',\n",
       " ',',\n",
       " 'cold',\n",
       " 'fire',\n",
       " ',',\n",
       " 'sick',\n",
       " 'health',\n",
       " ',',\n",
       " 'Still-waking',\n",
       " 'sleep',\n",
       " ',',\n",
       " 'that',\n",
       " 'is',\n",
       " 'not',\n",
       " 'what',\n",
       " 'it',\n",
       " 'is',\n",
       " '!',\n",
       " 'This',\n",
       " 'love',\n",
       " 'feel',\n",
       " 'I',\n",
       " ',',\n",
       " 'that',\n",
       " 'feel',\n",
       " 'no',\n",
       " 'love',\n",
       " 'in',\n",
       " 'this',\n",
       " '.']"
      ]
     },
     "execution_count": 28,
     "metadata": {},
     "output_type": "execute_result"
    }
   ],
   "source": [
    "romeo_words"
   ]
  },
  {
   "cell_type": "markdown",
   "metadata": {},
   "source": [
    "Good news is that the `movie_reviews` corpus already has direct access to tokenized text with the `words` method:"
   ]
  },
  {
   "cell_type": "code",
   "execution_count": 44,
   "metadata": {},
   "outputs": [
    {
     "data": {
      "text/plain": [
       "['films',\n",
       " 'adapted',\n",
       " 'from',\n",
       " 'comic',\n",
       " 'books',\n",
       " 'have',\n",
       " 'had',\n",
       " 'plenty',\n",
       " 'of',\n",
       " 'success',\n",
       " ',',\n",
       " 'whether',\n",
       " 'they',\n",
       " \"'re\",\n",
       " 'about',\n",
       " 'superheroes',\n",
       " '(',\n",
       " 'batman',\n",
       " ',',\n",
       " 'superman',\n",
       " ',',\n",
       " 'spawn',\n",
       " ')',\n",
       " ',',\n",
       " 'or',\n",
       " 'geared',\n",
       " 'toward',\n",
       " 'kids',\n",
       " '(',\n",
       " 'casper',\n",
       " ')',\n",
       " 'or',\n",
       " 'the',\n",
       " 'arthouse',\n",
       " 'crowd',\n",
       " '(',\n",
       " 'ghost',\n",
       " 'world',\n",
       " ')',\n",
       " ',',\n",
       " 'but',\n",
       " 'there',\n",
       " \"'s\",\n",
       " 'never',\n",
       " 'really',\n",
       " 'been',\n",
       " 'a',\n",
       " 'comic',\n",
       " 'book',\n",
       " 'like',\n",
       " 'from',\n",
       " 'hell',\n",
       " 'before',\n",
       " '.',\n",
       " 'for',\n",
       " 'starters',\n",
       " ',',\n",
       " 'it',\n",
       " 'was',\n",
       " 'created',\n",
       " 'by',\n",
       " 'alan',\n",
       " 'moore',\n",
       " '(',\n",
       " 'and',\n",
       " 'eddie',\n",
       " 'campbell',\n",
       " ')',\n",
       " ',',\n",
       " 'who',\n",
       " 'brought',\n",
       " 'the',\n",
       " 'medium',\n",
       " 'to',\n",
       " 'a',\n",
       " 'whole',\n",
       " 'new',\n",
       " 'level',\n",
       " 'in',\n",
       " 'the',\n",
       " 'mid',\n",
       " \"'80s\",\n",
       " 'with',\n",
       " 'a',\n",
       " '12-part',\n",
       " 'series',\n",
       " 'called',\n",
       " 'the',\n",
       " 'watchmen',\n",
       " '.',\n",
       " 'to',\n",
       " 'say',\n",
       " 'moore',\n",
       " 'and',\n",
       " 'campbell',\n",
       " 'thoroughly',\n",
       " 'researched',\n",
       " 'the',\n",
       " 'subject',\n",
       " 'of',\n",
       " 'jack',\n",
       " 'the',\n",
       " 'ripper',\n",
       " 'would',\n",
       " 'be',\n",
       " 'like',\n",
       " 'saying',\n",
       " 'michael',\n",
       " 'jackson',\n",
       " 'is',\n",
       " 'starting',\n",
       " 'to',\n",
       " 'look',\n",
       " 'a',\n",
       " 'little',\n",
       " 'odd',\n",
       " '.',\n",
       " 'the',\n",
       " 'book',\n",
       " '(',\n",
       " 'or',\n",
       " '``',\n",
       " 'graphic',\n",
       " 'novel',\n",
       " ',',\n",
       " '``',\n",
       " 'if',\n",
       " 'you',\n",
       " 'will',\n",
       " ')',\n",
       " 'is',\n",
       " 'over',\n",
       " '500',\n",
       " 'pages',\n",
       " 'long',\n",
       " 'and',\n",
       " 'includes',\n",
       " 'nearly',\n",
       " '30',\n",
       " 'more',\n",
       " 'that',\n",
       " 'consist',\n",
       " 'of',\n",
       " 'nothing',\n",
       " 'but',\n",
       " 'footnotes',\n",
       " '.',\n",
       " 'in',\n",
       " 'other',\n",
       " 'words',\n",
       " ',',\n",
       " 'do',\n",
       " \"n't\",\n",
       " 'dismiss',\n",
       " 'this',\n",
       " 'film',\n",
       " 'because',\n",
       " 'of',\n",
       " 'its',\n",
       " 'source',\n",
       " '.',\n",
       " 'if',\n",
       " 'you',\n",
       " 'can',\n",
       " 'get',\n",
       " 'past',\n",
       " 'the',\n",
       " 'whole',\n",
       " 'comic',\n",
       " 'book',\n",
       " 'thing',\n",
       " ',',\n",
       " 'you',\n",
       " 'might',\n",
       " 'find',\n",
       " 'another',\n",
       " 'stumbling',\n",
       " 'block',\n",
       " 'in',\n",
       " 'from',\n",
       " 'hell',\n",
       " \"'s\",\n",
       " 'directors',\n",
       " ',',\n",
       " 'albert',\n",
       " 'and',\n",
       " 'allen',\n",
       " 'hughes',\n",
       " '.',\n",
       " 'getting',\n",
       " 'the',\n",
       " 'hughes',\n",
       " 'brothers',\n",
       " 'to',\n",
       " 'direct',\n",
       " 'this',\n",
       " 'seems',\n",
       " 'almost',\n",
       " 'as',\n",
       " 'ludicrous',\n",
       " 'as',\n",
       " 'casting',\n",
       " 'carrot',\n",
       " 'top',\n",
       " 'in',\n",
       " ',',\n",
       " 'well',\n",
       " ',',\n",
       " 'anything',\n",
       " ',',\n",
       " 'but',\n",
       " 'riddle',\n",
       " 'me',\n",
       " 'this',\n",
       " ':',\n",
       " 'who',\n",
       " 'better',\n",
       " 'to',\n",
       " 'direct',\n",
       " 'a',\n",
       " 'film',\n",
       " 'that',\n",
       " \"'s\",\n",
       " 'set',\n",
       " 'in',\n",
       " 'the',\n",
       " 'ghetto',\n",
       " 'and',\n",
       " 'features',\n",
       " 'really',\n",
       " 'violent',\n",
       " 'street',\n",
       " 'crime',\n",
       " 'than',\n",
       " 'the',\n",
       " 'mad',\n",
       " 'geniuses',\n",
       " 'behind',\n",
       " 'menace',\n",
       " 'ii',\n",
       " 'society',\n",
       " '?',\n",
       " 'the',\n",
       " 'ghetto',\n",
       " 'in',\n",
       " 'question',\n",
       " 'is',\n",
       " ',',\n",
       " 'of',\n",
       " 'course',\n",
       " ',',\n",
       " 'whitechapel',\n",
       " 'in',\n",
       " '1888',\n",
       " 'london',\n",
       " \"'s\",\n",
       " 'east',\n",
       " 'end',\n",
       " '.',\n",
       " 'it',\n",
       " \"'s\",\n",
       " 'a',\n",
       " 'filthy',\n",
       " ',',\n",
       " 'sooty',\n",
       " 'place',\n",
       " 'where',\n",
       " 'the',\n",
       " 'whores',\n",
       " '(',\n",
       " 'called',\n",
       " '``',\n",
       " 'unfortunates',\n",
       " '``',\n",
       " ')',\n",
       " 'are',\n",
       " 'starting',\n",
       " 'to',\n",
       " 'get',\n",
       " 'a',\n",
       " 'little',\n",
       " 'nervous',\n",
       " 'about',\n",
       " 'this',\n",
       " 'mysterious',\n",
       " 'psychopath',\n",
       " 'who',\n",
       " 'has',\n",
       " 'been',\n",
       " 'carving',\n",
       " 'through',\n",
       " 'their',\n",
       " 'profession',\n",
       " 'with',\n",
       " 'surgical',\n",
       " 'precision',\n",
       " '.',\n",
       " 'when',\n",
       " 'the',\n",
       " 'first',\n",
       " 'stiff',\n",
       " 'turns',\n",
       " 'up',\n",
       " ',',\n",
       " 'copper',\n",
       " 'peter',\n",
       " 'godley',\n",
       " '(',\n",
       " 'robbie',\n",
       " 'coltrane',\n",
       " ',',\n",
       " 'the',\n",
       " 'world',\n",
       " 'is',\n",
       " 'not',\n",
       " 'enough',\n",
       " ')',\n",
       " 'calls',\n",
       " 'in',\n",
       " 'inspector',\n",
       " 'frederick',\n",
       " 'abberline',\n",
       " '(',\n",
       " 'johnny',\n",
       " 'depp',\n",
       " ',',\n",
       " 'blow',\n",
       " ')',\n",
       " 'to',\n",
       " 'crack',\n",
       " 'the',\n",
       " 'case',\n",
       " '.',\n",
       " 'abberline',\n",
       " ',',\n",
       " 'a',\n",
       " 'widower',\n",
       " ',',\n",
       " 'has',\n",
       " 'prophetic',\n",
       " 'dreams',\n",
       " 'he',\n",
       " 'unsuccessfully',\n",
       " 'tries',\n",
       " 'to',\n",
       " 'quell',\n",
       " 'with',\n",
       " 'copious',\n",
       " 'amounts',\n",
       " 'of',\n",
       " 'absinthe',\n",
       " 'and',\n",
       " 'opium',\n",
       " '.',\n",
       " 'upon',\n",
       " 'arriving',\n",
       " 'in',\n",
       " 'whitechapel',\n",
       " ',',\n",
       " 'he',\n",
       " 'befriends',\n",
       " 'an',\n",
       " 'unfortunate',\n",
       " 'named',\n",
       " 'mary',\n",
       " 'kelly',\n",
       " '(',\n",
       " 'heather',\n",
       " 'graham',\n",
       " ',',\n",
       " 'say',\n",
       " 'it',\n",
       " 'is',\n",
       " \"n't\",\n",
       " 'so',\n",
       " ')',\n",
       " 'and',\n",
       " 'proceeds',\n",
       " 'to',\n",
       " 'investigate',\n",
       " 'the',\n",
       " 'horribly',\n",
       " 'gruesome',\n",
       " 'crimes',\n",
       " 'that',\n",
       " 'even',\n",
       " 'the',\n",
       " 'police',\n",
       " 'surgeon',\n",
       " 'ca',\n",
       " \"n't\",\n",
       " 'stomach',\n",
       " '.',\n",
       " 'i',\n",
       " 'do',\n",
       " \"n't\",\n",
       " 'think',\n",
       " 'anyone',\n",
       " 'needs',\n",
       " 'to',\n",
       " 'be',\n",
       " 'briefed',\n",
       " 'on',\n",
       " 'jack',\n",
       " 'the',\n",
       " 'ripper',\n",
       " ',',\n",
       " 'so',\n",
       " 'i',\n",
       " 'wo',\n",
       " \"n't\",\n",
       " 'go',\n",
       " 'into',\n",
       " 'the',\n",
       " 'particulars',\n",
       " 'here',\n",
       " ',',\n",
       " 'other',\n",
       " 'than',\n",
       " 'to',\n",
       " 'say',\n",
       " 'moore',\n",
       " 'and',\n",
       " 'campbell',\n",
       " 'have',\n",
       " 'a',\n",
       " 'unique',\n",
       " 'and',\n",
       " 'interesting',\n",
       " 'theory',\n",
       " 'about',\n",
       " 'both',\n",
       " 'the',\n",
       " 'identity',\n",
       " 'of',\n",
       " 'the',\n",
       " 'killer',\n",
       " 'and',\n",
       " 'the',\n",
       " 'reasons',\n",
       " 'he',\n",
       " 'chooses',\n",
       " 'to',\n",
       " 'slay',\n",
       " '.',\n",
       " 'in',\n",
       " 'the',\n",
       " 'comic',\n",
       " ',',\n",
       " 'they',\n",
       " 'do',\n",
       " \"n't\",\n",
       " 'bother',\n",
       " 'cloaking',\n",
       " 'the',\n",
       " 'identity',\n",
       " 'of',\n",
       " 'the',\n",
       " 'ripper',\n",
       " ',',\n",
       " 'but',\n",
       " 'screenwriters',\n",
       " 'terry',\n",
       " 'hayes',\n",
       " '(',\n",
       " 'vertical',\n",
       " 'limit',\n",
       " ')',\n",
       " 'and',\n",
       " 'rafael',\n",
       " 'yglesias',\n",
       " '(',\n",
       " 'les',\n",
       " 'mis',\n",
       " '?',\n",
       " 'rables',\n",
       " ')',\n",
       " 'do',\n",
       " 'a',\n",
       " 'good',\n",
       " 'job',\n",
       " 'of',\n",
       " 'keeping',\n",
       " 'him',\n",
       " 'hidden',\n",
       " 'from',\n",
       " 'viewers',\n",
       " 'until',\n",
       " 'the',\n",
       " 'very',\n",
       " 'end',\n",
       " '.',\n",
       " 'it',\n",
       " \"'s\",\n",
       " 'funny',\n",
       " 'to',\n",
       " 'watch',\n",
       " 'the',\n",
       " 'locals',\n",
       " 'blindly',\n",
       " 'point',\n",
       " 'the',\n",
       " 'finger',\n",
       " 'of',\n",
       " 'blame',\n",
       " 'at',\n",
       " 'jews',\n",
       " 'and',\n",
       " 'indians',\n",
       " 'because',\n",
       " ',',\n",
       " 'after',\n",
       " 'all',\n",
       " ',',\n",
       " 'an',\n",
       " 'englishman',\n",
       " 'could',\n",
       " 'never',\n",
       " 'be',\n",
       " 'capable',\n",
       " 'of',\n",
       " 'committing',\n",
       " 'such',\n",
       " 'ghastly',\n",
       " 'acts',\n",
       " '.',\n",
       " 'and',\n",
       " 'from',\n",
       " 'hell',\n",
       " \"'s\",\n",
       " 'ending',\n",
       " 'had',\n",
       " 'me',\n",
       " 'whistling',\n",
       " 'the',\n",
       " 'stonecutters',\n",
       " 'song',\n",
       " 'from',\n",
       " 'the',\n",
       " 'simpsons',\n",
       " 'for',\n",
       " 'days',\n",
       " '(',\n",
       " '``',\n",
       " 'who',\n",
       " 'holds',\n",
       " 'back',\n",
       " 'the',\n",
       " 'electric',\n",
       " 'car/who',\n",
       " 'made',\n",
       " 'steve',\n",
       " 'guttenberg',\n",
       " 'a',\n",
       " 'star',\n",
       " '?',\n",
       " '``',\n",
       " ')',\n",
       " '.',\n",
       " 'do',\n",
       " \"n't\",\n",
       " 'worry',\n",
       " '-',\n",
       " 'it',\n",
       " \"'ll\",\n",
       " 'all',\n",
       " 'make',\n",
       " 'sense',\n",
       " 'when',\n",
       " 'you',\n",
       " 'see',\n",
       " 'it',\n",
       " '.',\n",
       " 'now',\n",
       " 'onto',\n",
       " 'from',\n",
       " 'hell',\n",
       " \"'s\",\n",
       " 'appearance',\n",
       " ':',\n",
       " 'it',\n",
       " \"'s\",\n",
       " 'certainly',\n",
       " 'dark',\n",
       " 'and',\n",
       " 'bleak',\n",
       " 'enough',\n",
       " ',',\n",
       " 'and',\n",
       " 'it',\n",
       " \"'s\",\n",
       " 'surprising',\n",
       " 'to',\n",
       " 'see',\n",
       " 'how',\n",
       " 'much',\n",
       " 'more',\n",
       " 'it',\n",
       " 'looks',\n",
       " 'like',\n",
       " 'a',\n",
       " 'tim',\n",
       " 'burton',\n",
       " 'film',\n",
       " 'than',\n",
       " 'planet',\n",
       " 'of',\n",
       " 'the',\n",
       " 'apes',\n",
       " 'did',\n",
       " '(',\n",
       " 'at',\n",
       " 'times',\n",
       " ',',\n",
       " 'it',\n",
       " 'seems',\n",
       " 'like',\n",
       " 'sleepy',\n",
       " 'hollow',\n",
       " '2',\n",
       " ')',\n",
       " '.',\n",
       " 'the',\n",
       " 'print',\n",
       " 'i',\n",
       " 'saw',\n",
       " 'was',\n",
       " \"n't\",\n",
       " 'completely',\n",
       " 'finished',\n",
       " '(',\n",
       " 'both',\n",
       " 'color',\n",
       " 'and',\n",
       " 'music',\n",
       " 'had',\n",
       " 'not',\n",
       " 'been',\n",
       " 'finalized',\n",
       " ',',\n",
       " 'so',\n",
       " 'no',\n",
       " 'comments',\n",
       " 'about',\n",
       " 'marilyn',\n",
       " 'manson',\n",
       " ')',\n",
       " ',',\n",
       " 'but',\n",
       " 'cinematographer',\n",
       " 'peter',\n",
       " 'deming',\n",
       " '(',\n",
       " 'do',\n",
       " \"n't\",\n",
       " 'say',\n",
       " 'a',\n",
       " 'word',\n",
       " ')',\n",
       " 'ably',\n",
       " 'captures',\n",
       " 'the',\n",
       " 'dreariness',\n",
       " 'of',\n",
       " 'victorian-era',\n",
       " 'london',\n",
       " 'and',\n",
       " 'helped',\n",
       " 'make',\n",
       " 'the',\n",
       " 'flashy',\n",
       " 'killing',\n",
       " 'scenes',\n",
       " 'remind',\n",
       " 'me',\n",
       " 'of',\n",
       " 'the',\n",
       " 'crazy',\n",
       " 'flashbacks',\n",
       " 'in',\n",
       " 'twin',\n",
       " 'peaks',\n",
       " ',',\n",
       " 'even',\n",
       " 'though',\n",
       " 'the',\n",
       " 'violence',\n",
       " 'in',\n",
       " 'the',\n",
       " 'film',\n",
       " 'pales',\n",
       " 'in',\n",
       " 'comparison',\n",
       " 'to',\n",
       " 'that',\n",
       " 'in',\n",
       " 'the',\n",
       " 'black-and-white',\n",
       " 'comic',\n",
       " '.',\n",
       " 'oscar',\n",
       " 'winner',\n",
       " 'martin',\n",
       " 'childs',\n",
       " \"'\",\n",
       " '(',\n",
       " 'shakespeare',\n",
       " 'in',\n",
       " 'love',\n",
       " ')',\n",
       " 'production',\n",
       " 'design',\n",
       " 'turns',\n",
       " 'the',\n",
       " 'original',\n",
       " 'prague',\n",
       " 'surroundings',\n",
       " 'into',\n",
       " 'one',\n",
       " 'creepy',\n",
       " 'place',\n",
       " '.',\n",
       " 'even',\n",
       " 'the',\n",
       " 'acting',\n",
       " 'in',\n",
       " 'from',\n",
       " 'hell',\n",
       " 'is',\n",
       " 'solid',\n",
       " ',',\n",
       " 'with',\n",
       " 'the',\n",
       " 'dreamy',\n",
       " 'depp',\n",
       " 'turning',\n",
       " 'in',\n",
       " 'a',\n",
       " 'typically',\n",
       " 'strong',\n",
       " 'performance',\n",
       " 'and',\n",
       " 'deftly',\n",
       " 'handling',\n",
       " 'a',\n",
       " 'british',\n",
       " 'accent',\n",
       " '.',\n",
       " 'ians',\n",
       " 'holm',\n",
       " '(',\n",
       " 'joe',\n",
       " 'gould',\n",
       " \"'s\",\n",
       " 'secret',\n",
       " ')',\n",
       " 'and',\n",
       " 'richardson',\n",
       " '(',\n",
       " '102',\n",
       " 'dalmatians',\n",
       " ')',\n",
       " 'log',\n",
       " 'in',\n",
       " 'great',\n",
       " 'supporting',\n",
       " 'roles',\n",
       " ',',\n",
       " 'but',\n",
       " 'the',\n",
       " 'big',\n",
       " 'surprise',\n",
       " 'here',\n",
       " 'is',\n",
       " 'graham',\n",
       " '.',\n",
       " 'i',\n",
       " 'cringed',\n",
       " 'the',\n",
       " 'first',\n",
       " 'time',\n",
       " 'she',\n",
       " 'opened',\n",
       " 'her',\n",
       " 'mouth',\n",
       " ',',\n",
       " 'imagining',\n",
       " 'her',\n",
       " 'attempt',\n",
       " 'at',\n",
       " 'an',\n",
       " 'irish',\n",
       " 'accent',\n",
       " ',',\n",
       " 'but',\n",
       " 'it',\n",
       " 'actually',\n",
       " 'was',\n",
       " \"n't\",\n",
       " 'half',\n",
       " 'bad',\n",
       " '.',\n",
       " 'the',\n",
       " 'film',\n",
       " ',',\n",
       " 'however',\n",
       " ',',\n",
       " 'is',\n",
       " 'all',\n",
       " 'good',\n",
       " '.',\n",
       " '2',\n",
       " ':',\n",
       " '00',\n",
       " '-',\n",
       " 'r',\n",
       " 'for',\n",
       " 'strong',\n",
       " 'violence/gore',\n",
       " ',',\n",
       " 'sexuality',\n",
       " ',',\n",
       " 'language',\n",
       " 'and',\n",
       " 'drug',\n",
       " 'content',\n",
       " 'every',\n",
       " 'now',\n",
       " 'and',\n",
       " 'then',\n",
       " 'a',\n",
       " 'movie',\n",
       " 'comes',\n",
       " 'along',\n",
       " 'from',\n",
       " 'a',\n",
       " 'suspect',\n",
       " 'studio',\n",
       " ',',\n",
       " 'with',\n",
       " 'every',\n",
       " 'indication',\n",
       " 'that',\n",
       " 'it',\n",
       " 'will',\n",
       " 'be',\n",
       " 'a',\n",
       " 'stinker',\n",
       " ',',\n",
       " 'and',\n",
       " 'to',\n",
       " 'everybody',\n",
       " \"'s\",\n",
       " 'surprise',\n",
       " '(',\n",
       " 'perhaps',\n",
       " 'even',\n",
       " 'the',\n",
       " 'studio',\n",
       " ')',\n",
       " 'the',\n",
       " 'film',\n",
       " 'becomes',\n",
       " 'a',\n",
       " 'critical',\n",
       " 'darling',\n",
       " '.',\n",
       " 'mtv',\n",
       " 'films',\n",
       " \"'\",\n",
       " '_election',\n",
       " ',',\n",
       " 'a',\n",
       " 'high',\n",
       " 'school',\n",
       " 'comedy',\n",
       " 'starring',\n",
       " 'matthew',\n",
       " 'broderick',\n",
       " 'and',\n",
       " 'reese',\n",
       " 'witherspoon',\n",
       " ',',\n",
       " 'is',\n",
       " 'a',\n",
       " 'current',\n",
       " 'example',\n",
       " '.',\n",
       " 'did',\n",
       " 'anybody',\n",
       " 'know',\n",
       " 'this',\n",
       " 'film',\n",
       " 'existed',\n",
       " 'a',\n",
       " 'week',\n",
       " 'before',\n",
       " 'it',\n",
       " 'opened',\n",
       " '?',\n",
       " 'the',\n",
       " 'plot',\n",
       " 'is',\n",
       " 'deceptively',\n",
       " 'simple',\n",
       " '.',\n",
       " 'george',\n",
       " 'washington',\n",
       " 'carver',\n",
       " 'high',\n",
       " 'school',\n",
       " 'is',\n",
       " 'having',\n",
       " 'student',\n",
       " 'elections',\n",
       " '.',\n",
       " 'tracy',\n",
       " 'flick',\n",
       " '(',\n",
       " 'reese',\n",
       " 'witherspoon',\n",
       " ')',\n",
       " 'is',\n",
       " 'an',\n",
       " 'over-achiever',\n",
       " 'with',\n",
       " 'her',\n",
       " 'hand',\n",
       " 'raised',\n",
       " 'at',\n",
       " 'nearly',\n",
       " 'every',\n",
       " 'question',\n",
       " ',',\n",
       " 'way',\n",
       " ',',\n",
       " 'way',\n",
       " ',',\n",
       " 'high',\n",
       " '.',\n",
       " 'mr',\n",
       " '.',\n",
       " '``',\n",
       " 'm',\n",
       " '``',\n",
       " '(',\n",
       " 'matthew',\n",
       " 'broderick',\n",
       " ')',\n",
       " ',',\n",
       " 'sick',\n",
       " 'of',\n",
       " 'the',\n",
       " 'megalomaniac',\n",
       " 'student',\n",
       " ',',\n",
       " 'encourages',\n",
       " 'paul',\n",
       " ',',\n",
       " 'a',\n",
       " 'popular-but-slow',\n",
       " 'jock',\n",
       " 'to',\n",
       " 'run',\n",
       " '.',\n",
       " 'and',\n",
       " 'paul',\n",
       " \"'s\",\n",
       " 'nihilistic',\n",
       " 'sister',\n",
       " 'jumps',\n",
       " 'in',\n",
       " 'the',\n",
       " 'race',\n",
       " 'as',\n",
       " 'well',\n",
       " ',',\n",
       " 'for',\n",
       " 'personal',\n",
       " 'reasons',\n",
       " '.',\n",
       " 'the',\n",
       " 'dark',\n",
       " 'side',\n",
       " 'of',\n",
       " 'such',\n",
       " 'sleeper',\n",
       " 'success',\n",
       " 'is',\n",
       " 'that',\n",
       " ',',\n",
       " 'because',\n",
       " 'expectations',\n",
       " 'were',\n",
       " 'so',\n",
       " 'low',\n",
       " 'going',\n",
       " 'in',\n",
       " ',',\n",
       " 'the',\n",
       " ...]"
      ]
     },
     "execution_count": 44,
     "metadata": {},
     "output_type": "execute_result"
    }
   ],
   "source": [
    "movie_reviews.words(fileids=positive_fileids[0])\n",
    "for i in range(0,100):\n",
    "    tkwords.append(nltk.word_tokenize(movie_reviews.raw(fileids=positive_fileids[i])))\n",
    "tkwords\n"
   ]
  },
  {
   "cell_type": "markdown",
   "metadata": {},
   "source": [
    "## Build a bag-of-words model\n",
    "\n",
    "The simplest model for analyzing text is just to think about text as an unordered collection of words (bag-of-words). This can generally allow to infer from the text the category, the topic or the sentiment.\n",
    "\n",
    "From the bag-of-words model we can build features to be used by a classifier, here we assume that each word is a feature that can either be `True` or `False`.\n",
    "We implement this in Python as a dictionary where for each word in a sentence we associate `True`, if a word is missing, that would be the same as assigning `False`."
   ]
  },
  {
   "cell_type": "code",
   "execution_count": 45,
   "metadata": {},
   "outputs": [
    {
     "data": {
      "text/plain": [
       "{'!': True,\n",
       " ',': True,\n",
       " '.': True,\n",
       " 'Feather': True,\n",
       " 'I': True,\n",
       " 'Misshapen': True,\n",
       " 'O': True,\n",
       " 'Still-waking': True,\n",
       " 'This': True,\n",
       " 'Why': True,\n",
       " 'any': True,\n",
       " 'brawling': True,\n",
       " 'bright': True,\n",
       " 'chaos': True,\n",
       " 'cold': True,\n",
       " 'create': True,\n",
       " 'feel': True,\n",
       " 'fire': True,\n",
       " 'first': True,\n",
       " 'forms': True,\n",
       " 'hate': True,\n",
       " 'health': True,\n",
       " 'heavy': True,\n",
       " 'in': True,\n",
       " 'is': True,\n",
       " 'it': True,\n",
       " 'lead': True,\n",
       " 'lightness': True,\n",
       " 'love': True,\n",
       " 'loving': True,\n",
       " 'no': True,\n",
       " 'not': True,\n",
       " 'nothing': True,\n",
       " 'of': True,\n",
       " 'serious': True,\n",
       " 'sick': True,\n",
       " 'sleep': True,\n",
       " 'smoke': True,\n",
       " 'that': True,\n",
       " 'then': True,\n",
       " 'thing': True,\n",
       " 'this': True,\n",
       " 'vanity': True,\n",
       " 'well-seeming': True,\n",
       " 'what': True}"
      ]
     },
     "execution_count": 45,
     "metadata": {},
     "output_type": "execute_result"
    }
   ],
   "source": [
    "{word:True for word in romeo_words}"
   ]
  },
  {
   "cell_type": "code",
   "execution_count": 47,
   "metadata": {},
   "outputs": [
    {
     "data": {
      "text/plain": [
       "dict"
      ]
     },
     "execution_count": 47,
     "metadata": {},
     "output_type": "execute_result"
    }
   ],
   "source": [
    "type(_)"
   ]
  },
  {
   "cell_type": "code",
   "execution_count": 46,
   "metadata": {},
   "outputs": [],
   "source": [
    "def build_bag_of_words_features(words):\n",
    "    return {word:True for word in words}"
   ]
  },
  {
   "cell_type": "code",
   "execution_count": null,
   "metadata": {},
   "outputs": [],
   "source": [
    "build_bag_of_words_features(romeo_words)"
   ]
  },
  {
   "cell_type": "markdown",
   "metadata": {},
   "source": [
    "This is what we wanted, but we notice that also punctuation like \"!\" and words useless for classification purposes like \"of\" or \"that\" are also included.\n",
    "Those words are named \"stopwords\" and `nltk` has a convenient corpus we can download:"
   ]
  },
  {
   "cell_type": "code",
   "execution_count": null,
   "metadata": {},
   "outputs": [],
   "source": [
    "nltk.download(\"stopwords\")"
   ]
  },
  {
   "cell_type": "code",
   "execution_count": null,
   "metadata": {
    "collapsed": true
   },
   "outputs": [],
   "source": [
    "import string"
   ]
  },
  {
   "cell_type": "code",
   "execution_count": null,
   "metadata": {},
   "outputs": [],
   "source": [
    "string.punctuation"
   ]
  },
  {
   "cell_type": "markdown",
   "metadata": {},
   "source": [
    "Using the Python `string.punctuation` list and the English stopwords we can build better features by filtering out those words that would not help in the classification:"
   ]
  },
  {
   "cell_type": "code",
   "execution_count": null,
   "metadata": {},
   "outputs": [],
   "source": [
    "useless_words = nltk.corpus.stopwords.words(\"english\") + list(string.punctuation)\n",
    "#useless_words\n",
    "#type(useless_words)"
   ]
  },
  {
   "cell_type": "code",
   "execution_count": null,
   "metadata": {
    "collapsed": true
   },
   "outputs": [],
   "source": [
    "def build_bag_of_words_features_filtered(words):\n",
    "    return {\n",
    "        word:1 for word in words \\\n",
    "        if not word in useless_words}"
   ]
  },
  {
   "cell_type": "code",
   "execution_count": null,
   "metadata": {},
   "outputs": [],
   "source": [
    "build_bag_of_words_features_filtered(romeo_words)"
   ]
  },
  {
   "cell_type": "markdown",
   "metadata": {},
   "source": [
    "## Plotting Frequencies of Words\n",
    "\n",
    "It is common to explore a dataset before starting the analysis, in this section we will find the most common words and plot their frequency.\n",
    "\n",
    "Using the `.words()` function with no argument we can extract the words from the entire dataset and check that it is about 1.6 millions."
   ]
  },
  {
   "cell_type": "code",
   "execution_count": null,
   "metadata": {},
   "outputs": [],
   "source": [
    "all_words = movie_reviews.words()\n",
    "len(all_words)/1e6"
   ]
  },
  {
   "cell_type": "markdown",
   "metadata": {},
   "source": [
    "First we want to filter out `useless_words` as defined in the previous section, this will reduce the length of the dataset by more than a factor of 2:"
   ]
  },
  {
   "cell_type": "code",
   "execution_count": null,
   "metadata": {},
   "outputs": [],
   "source": [
    "filtered_words = [word for word in movie_reviews.words() if not word in useless_words]\n",
    "type(filtered_words)"
   ]
  },
  {
   "cell_type": "code",
   "execution_count": null,
   "metadata": {},
   "outputs": [],
   "source": [
    "len(filtered_words)/1e6"
   ]
  },
  {
   "cell_type": "markdown",
   "metadata": {},
   "source": [
    "The `collection` package of the standard library contains a `Counter` class that is handy for counting frequencies of words in our list:"
   ]
  },
  {
   "cell_type": "code",
   "execution_count": null,
   "metadata": {},
   "outputs": [],
   "source": [
    "from collections import Counter\n",
    "\n",
    "word_counter = Counter(filtered_words)"
   ]
  },
  {
   "cell_type": "markdown",
   "metadata": {},
   "source": [
    "It also has a `most_common()` method to access the words with the higher count:"
   ]
  },
  {
   "cell_type": "code",
   "execution_count": null,
   "metadata": {
    "collapsed": true
   },
   "outputs": [],
   "source": [
    "most_common_words = word_counter.most_common()[:10]"
   ]
  },
  {
   "cell_type": "code",
   "execution_count": null,
   "metadata": {},
   "outputs": [],
   "source": [
    "most_common_words"
   ]
  },
  {
   "cell_type": "markdown",
   "metadata": {},
   "source": [
    "Then we would like to have a visualization of this using `matplotlib`.\n",
    "\n",
    "First we want to use the Jupyter magic function\n",
    "\n",
    "    %matplotlib inline\n",
    "    \n",
    "to setup the Notebook to show the plot embedded into the Jupyter Notebook page, you can also test:\n",
    "\n",
    "    %matplotlib notebook\n",
    "    \n",
    "for a more interactive plotting interface which however is not as well supported on all platforms and browsers."
   ]
  },
  {
   "cell_type": "code",
   "execution_count": null,
   "metadata": {
    "collapsed": true
   },
   "outputs": [],
   "source": [
    "%matplotlib inline\n",
    "import matplotlib.pyplot as plt"
   ]
  },
  {
   "cell_type": "markdown",
   "metadata": {},
   "source": [
    "We can sort the word counts and plot their values on Logarithmic axes to check the shape of the distribution. This visualization is particularly useful if comparing 2 or more datasets, a flatter distribution indicates a large vocabulary while a peaked distribution a restricted vocabulary often due to a focused topic or specialized language."
   ]
  },
  {
   "cell_type": "code",
   "execution_count": null,
   "metadata": {},
   "outputs": [],
   "source": [
    "sorted_word_counts = sorted(list(word_counter.values()), reverse=True)\n",
    "\n",
    "plt.loglog(sorted_word_counts)\n",
    "plt.ylabel(\"Freq\")\n",
    "plt.xlabel(\"Word Rank\");"
   ]
  },
  {
   "cell_type": "markdown",
   "metadata": {},
   "source": [
    "Another related plot is the histogram of `sorted_word_counts`, which displays how many words have a count in a specific range.\n",
    "\n",
    "Of course the distribution is highly peaked at low counts, i.e. most of the words appear which a low count, so we better display it on semilogarithmic axes to inspect the tail of the distribution."
   ]
  },
  {
   "cell_type": "code",
   "execution_count": null,
   "metadata": {},
   "outputs": [],
   "source": [
    "plt.hist(sorted_word_counts, bins=50);"
   ]
  },
  {
   "cell_type": "code",
   "execution_count": null,
   "metadata": {},
   "outputs": [],
   "source": [
    "plt.hist(sorted_word_counts, bins=50, log=True);"
   ]
  },
  {
   "cell_type": "markdown",
   "metadata": {},
   "source": [
    "## Train a Classifier for Sentiment Analysis\n",
    "\n",
    "Using our `build_bag_of_words_features` function we can build separately the negative and positive features.\n",
    "Basically for each of the 1000 negative and for the 1000 positive review, we create one dictionary of the words and we associate the label \"neg\" and \"pos\" to it."
   ]
  },
  {
   "cell_type": "code",
   "execution_count": null,
   "metadata": {
    "collapsed": true
   },
   "outputs": [],
   "source": [
    "negative_features = [\n",
    "    (build_bag_of_words_features_filtered(movie_reviews.words(fileids=[f])), 'neg') \\\n",
    "    for f in negative_fileids\n",
    "]"
   ]
  },
  {
   "cell_type": "code",
   "execution_count": null,
   "metadata": {},
   "outputs": [],
   "source": [
    "print(negative_features[3])"
   ]
  },
  {
   "cell_type": "code",
   "execution_count": null,
   "metadata": {
    "collapsed": true
   },
   "outputs": [],
   "source": [
    "positive_features = [\n",
    "    (build_bag_of_words_features_filtered(movie_reviews.words(fileids=[f])), 'pos') \\\n",
    "    for f in positive_fileids\n",
    "]"
   ]
  },
  {
   "cell_type": "code",
   "execution_count": null,
   "metadata": {},
   "outputs": [],
   "source": [
    "print(positive_features[6])"
   ]
  },
  {
   "cell_type": "code",
   "execution_count": null,
   "metadata": {
    "collapsed": true
   },
   "outputs": [],
   "source": [
    "from nltk.classify import NaiveBayesClassifier"
   ]
  },
  {
   "cell_type": "markdown",
   "metadata": {},
   "source": [
    "One of the simplest supervised machine learning classifiers is the Naive Bayes Classifier, it can be trained on 80% of the data to learn what words are generally associated with positive or with negative reviews."
   ]
  },
  {
   "cell_type": "code",
   "execution_count": null,
   "metadata": {
    "collapsed": true
   },
   "outputs": [],
   "source": [
    "split = 800"
   ]
  },
  {
   "cell_type": "code",
   "execution_count": null,
   "metadata": {},
   "outputs": [],
   "source": [
    "sentiment_classifier = NaiveBayesClassifier.train(positive_features[:split]+negative_features[:split])"
   ]
  },
  {
   "cell_type": "markdown",
   "metadata": {},
   "source": [
    "We can check after training what is the accuracy on the training set, i.e. the same data used for training, we expect this to be a very high number because the algorithm already \"saw\" those data. Accuracy is the fraction of the data that is classified correctly, we can turn it into percent:"
   ]
  },
  {
   "cell_type": "code",
   "execution_count": null,
   "metadata": {},
   "outputs": [],
   "source": [
    "nltk.classify.util.accuracy(sentiment_classifier, positive_features[:split]+negative_features[:split])*100"
   ]
  },
  {
   "cell_type": "markdown",
   "metadata": {},
   "source": [
    "The accuracy above is mostly a check that nothing went very wrong in the training, the real measure of accuracy is on the remaining 20% of the data that wasn't used in training, the test data:"
   ]
  },
  {
   "cell_type": "code",
   "execution_count": null,
   "metadata": {},
   "outputs": [],
   "source": [
    "nltk.classify.util.accuracy(sentiment_classifier, positive_features[split:]+negative_features[split:])*100"
   ]
  },
  {
   "cell_type": "markdown",
   "metadata": {},
   "source": [
    "Accuracy here is around 70% which is pretty good for such a simple model if we consider that the estimated accuracy for a person is about 80%.\n",
    "We can finally print the most informative features, i.e. the words that mostly identify a positive or a negative review:"
   ]
  },
  {
   "cell_type": "code",
   "execution_count": null,
   "metadata": {},
   "outputs": [],
   "source": [
    "sentiment_classifier.show_most_informative_features()"
   ]
  }
 ],
 "metadata": {
  "anaconda-cloud": {},
  "kernelspec": {
   "display_name": "Python 3",
   "language": "python",
   "name": "python3"
  },
  "language_info": {
   "codemirror_mode": {
    "name": "ipython",
    "version": 3
   },
   "file_extension": ".py",
   "mimetype": "text/x-python",
   "name": "python",
   "nbconvert_exporter": "python",
   "pygments_lexer": "ipython3",
   "version": "3.6.4"
  }
 },
 "nbformat": 4,
 "nbformat_minor": 1
}
